{
  "cells": [
    {
      "cell_type": "markdown",
      "metadata": {
        "id": "4sVfxRF2UC2H"
      },
      "source": [
        "# 下載 MNIST 資料\n",
        "---\n",
        "首先，匯入 keras 和相關模組。"
      ]
    },
    {
      "cell_type": "code",
      "execution_count": 2,
      "metadata": {
        "id": "r43pJCz-n8vP",
        "colab": {
          "base_uri": "https://localhost:8080/"
        },
        "outputId": "26582534-c661-49d3-e474-ed82e19647b0"
      },
      "outputs": [
        {
          "output_type": "stream",
          "name": "stdout",
          "text": [
            "Downloading data from https://www.cs.toronto.edu/~kriz/cifar-10-python.tar.gz\n",
            "170498071/170498071 [==============================] - 2s 0us/step\n"
          ]
        }
      ],
      "source": [
        "# 匯入 numpy 和 pandas 模組，numpy 是 python 的程式庫，支援維度陣列與矩陣運算。\n",
        "# pandas 則提供檔案存取和數據操縱。\n",
        "import numpy as np\n",
        "import pandas as pd\n",
        "# 從 keras.utils 匯入 to_categroical，因為後續要將 label 標籤 轉換成 one-hot encoding。\n",
        "# 設定 seed 可以讓每次產生隨機值時，都會有相同的輸出。(若使用GPU，則無法每次皆相同)\n",
        "seed = 1234\n",
        "np.random.seed(seed)\n",
        "from tensorflow.keras.utils import to_categorical\n",
        "from tensorflow.keras import layers, metrics\n",
        "\n",
        "from tensorflow.keras import models\n",
        "import tensorflow as tf\n",
        "tf.random.set_seed(seed)\n",
        "\n",
        "\n",
        "from tensorflow.keras.datasets import mnist,cifar10\n",
        "(X_train_image, y_train_label),\\\n",
        "    (X_test_image, y_test_label) = cifar10.load_data()\n"
      ]
    },
    {
      "cell_type": "markdown",
      "metadata": {
        "id": "hgn5zsNAYY6A"
      },
      "source": [
        "Keras 中已經提供許多機器學習常用的數據集，包括波士頓房地產數據、CIFAR10、和這次範例要使用的手寫數據集。所以先從 keras 匯入 MNIST。\n",
        "\n",
        "第一次執行 mnist.load_data() ，程式會檢查目錄是否已經有檔案，如果沒有就會自動下載，所以第一次可能都會比較久。之後再次執行時不用再次下載就會快速很多。\n"
      ]
    },
    {
      "cell_type": "code",
      "execution_count": 3,
      "metadata": {
        "id": "vlDNq1x_n8vS"
      },
      "outputs": [],
      "source": [
        "#from tensorflow.keras.datasets import mnist,cifar10 #加分題資料改成使用cifar 10\n",
        "\n"
      ]
    },
    {
      "cell_type": "markdown",
      "metadata": {
        "id": "4GZl5_1ndtWZ"
      },
      "source": [
        "先來看看 MNIST 資料數據集的筆數，還有訓練資料的組成。\n",
        "\n",
        "可以看到 train 訓練資料有 60000 筆，test 測試資料有 10000 筆。\n",
        "\n",
        "訓練資料是由 images 和 labels 所組成共 60000 筆， images 是單色的數字影像，labels 是數字影像對應的真實值。"
      ]
    },
    {
      "cell_type": "code",
      "execution_count": 4,
      "metadata": {
        "id": "FsuxbJdEn8vS"
      },
      "outputs": [],
      "source": [
        "#print('train data : ', len(X_train_image))\n",
        "#print('test data : ', len(X_test_image))"
      ]
    },
    {
      "cell_type": "code",
      "execution_count": 5,
      "metadata": {
        "id": "sxNW-yfUn8vT"
      },
      "outputs": [],
      "source": [
        "#print('x_train_image : ', X_train_image.shape)\n",
        "#print('y_train_label : ', y_train_label.shape)"
      ]
    },
    {
      "cell_type": "markdown",
      "metadata": {
        "id": "p1UqvEszhGu7"
      },
      "source": [
        "# 建立 plot_image 函式來顯示數字影像\n",
        "---\n",
        "來看看剛剛匯入的手寫數字圖像。\n",
        "\n"
      ]
    },
    {
      "cell_type": "code",
      "execution_count": 6,
      "metadata": {
        "id": "aldFBwdNn8vU"
      },
      "outputs": [],
      "source": [
        "import matplotlib.pyplot as plt\n",
        "def plot_image(image):\n",
        "    # 設定圖形顯示大小\n",
        "    fig = plt.gcf()\n",
        "    fig.set_size_inches(2, 2)\n",
        "    # 使用 plt.imshow() 顯示圖像，傳入參數是 28 X 28 的圖形，\n",
        "    # cmap 參數設定為 binary 以黑白灰階顯示\n",
        "    plt.imshow(image, cmap = 'binary')\n",
        "    # 開始繪圖\n",
        "    plt.show()"
      ]
    },
    {
      "cell_type": "markdown",
      "metadata": {
        "id": "-5OMZLgiljix"
      },
      "source": [
        "傳入訓練集第一筆資料，來看看他的影像。"
      ]
    },
    {
      "cell_type": "code",
      "execution_count": 7,
      "metadata": {
        "id": "qrrZ-gcfn8vU"
      },
      "outputs": [],
      "source": [
        "#plot_image(X_train_image[200])"
      ]
    },
    {
      "cell_type": "markdown",
      "metadata": {
        "id": "R43L94LSl2IK"
      },
      "source": [
        "看看第一筆資料的 label"
      ]
    },
    {
      "cell_type": "code",
      "execution_count": 8,
      "metadata": {
        "id": "CctZ26v_n8vV"
      },
      "outputs": [],
      "source": [
        "#y_train_label[200]"
      ]
    },
    {
      "cell_type": "markdown",
      "metadata": {
        "id": "oXPaFNNjounB"
      },
      "source": [
        "# 查看多筆資料 images 與 labels\n",
        "---\n",
        "定義 plot_images_labels_prediction() 函式，傳入以下參數：images(數字影像)、labels(對應數字真實值)、prediction(預測結果)、idx(開始顯示影像的index)、num(要顯示的資料筆數，預設是10，不超過25)\n"
      ]
    },
    {
      "cell_type": "code",
      "execution_count": 9,
      "metadata": {
        "id": "wVDmYBSWn8vV"
      },
      "outputs": [],
      "source": [
        "def plot_images_labels_prediction(images, labels, prediction,idx, num = 10):\n",
        "\n",
        "    # 設定顯示圖形大小\n",
        "    fig = plt.gcf()\n",
        "    fig.set_size_inches(12, 14)\n",
        "    # 如果顯示筆數大於25 則將他設定為25 以避免錯誤\n",
        "    if num > 25: num = 25\n",
        "    # 使用 for 迴圈依序畫出 num 個數字圖形\n",
        "    for i in range(0, num):\n",
        "        ax = plt.subplot(5, 5, 1+i) # 建立 5 X 5 的 subgraph 子圖形\n",
        "        ax.imshow(images[idx], cmap = 'binary') # 畫出 subgraph 子圖形\n",
        "        title = \"label=\" + str(labels[idx]) # 設定子圖形 title 顯示標籤欄位\n",
        "        if len(prediction) > 0: # 如果 prediction 有傳入值\n",
        "            title += \",predict=\" + str(prediction[idx]) # 將 prediction 加入 title\n",
        "        ax.set_title(title, fontsize = 12) # 設定標題大小\n",
        "        ax.set_xticks([]); ax.set_yticks([]) # 設定不顯示刻度\n",
        "        idx += 1 # 讀取下一筆\n",
        "    plt.show() # 開始畫圖"
      ]
    },
    {
      "cell_type": "markdown",
      "metadata": {
        "id": "epHsMhfHzBAT"
      },
      "source": [
        "顯示訓練資料前 10 筆資料。不過目前還沒有預測結果所以傳入空 list ，由第 0 筆開始顯示至第 9 筆。"
      ]
    },
    {
      "cell_type": "code",
      "execution_count": 10,
      "metadata": {
        "id": "y-iLff1vn8vW"
      },
      "outputs": [],
      "source": [
        "#plot_images_labels_prediction(X_train_image, y_train_label, [], 0, 10)"
      ]
    },
    {
      "cell_type": "markdown",
      "metadata": {
        "id": "Ae4v3BOYzfz0"
      },
      "source": [
        "查看 test 測試資料筆數，可以看到共10000筆資料。"
      ]
    },
    {
      "cell_type": "code",
      "execution_count": 11,
      "metadata": {
        "id": "TKTXr0uin8vW"
      },
      "outputs": [],
      "source": [
        "#print('x_test_image : ', X_test_image.shape)\n",
        "#print('y_test_label : ', y_test_label.shape)"
      ]
    },
    {
      "cell_type": "markdown",
      "metadata": {
        "id": "KteBBFUTzr3s"
      },
      "source": [
        "顯示測試資料前 10 筆資料圖形。"
      ]
    },
    {
      "cell_type": "code",
      "execution_count": 12,
      "metadata": {
        "id": "ISt-J68Zn8vX"
      },
      "outputs": [],
      "source": [
        "#plot_images_labels_prediction(X_test_image, y_test_label, [], 0, 10)"
      ]
    },
    {
      "cell_type": "markdown",
      "metadata": {
        "id": "HRNmke3J1E1t"
      },
      "source": [
        "# feature(數字影像的特徵值)資料預處理\n"
      ]
    },
    {
      "cell_type": "code",
      "execution_count": 13,
      "metadata": {
        "id": "ms3N-1iUn8vX"
      },
      "outputs": [],
      "source": [
        "X_Train = X_train_image.astype('float32')\n",
        "X_Test = X_test_image.astype('float32')\n",
        "X_Train_normalize = X_Train / 255\n",
        "X_Test_normalize = X_Test / 255\n",
        "\n",
        "###########################\n",
        "y_TrainOneHot = to_categorical(y_train_label)\n",
        "y_TestOneHot = to_categorical(y_test_label)\n",
        "from tensorflow.keras.layers import Conv2D,MaxPool2D,Dropout,BatchNormalization,Dense,Flatten\n",
        "model = models.Sequential()\n",
        "model.add(Conv2D(filters=32, kernel_size=3, input_shape=(32, 32, 3), activation='relu', padding='same'))\n",
        "model.add(BatchNormalization())\n",
        "model.add(Conv2D(filters=32, kernel_size=3, input_shape=(32, 32, 3), activation='relu', padding='same'))\n",
        "model.add(BatchNormalization())\n",
        "model.add(MaxPool2D(pool_size=2))\n",
        "model.add(Dropout(rate=0.3))\n",
        "\n",
        "model.add(Conv2D(filters=64, kernel_size=3, activation='relu', padding='same'))\n",
        "model.add(BatchNormalization())\n",
        "model.add(Conv2D(filters=64, kernel_size=3, activation='relu', padding='same'))\n",
        "model.add(BatchNormalization())\n",
        "model.add(MaxPool2D(pool_size=2))\n",
        "model.add(Dropout(rate=0.5))\n",
        "\n",
        "model.add(Conv2D(filters=128, kernel_size=3, activation='relu', padding='same'))\n",
        "model.add(BatchNormalization())\n",
        "model.add(Conv2D(filters=128, kernel_size=3, activation='relu', padding='same'))\n",
        "model.add(BatchNormalization())\n",
        "model.add(MaxPool2D(pool_size=2))\n",
        "model.add(Dropout(rate=0.5))"
      ]
    },
    {
      "cell_type": "code",
      "source": [
        "######(X_train_image, y_train_label), (X_test_image, y_test_label) = cifar10.load_data()  ###### 使用cifar10\n",
        "#########\n",
        "model.add(Flatten())\n",
        "model.add(Dense(128, activation='relu'))\n",
        "model.add(Dropout(rate=0.5))\n",
        "model.add(Dense(10, activation='softmax'))"
      ],
      "metadata": {
        "id": "aEzSDcvFhPlF"
      },
      "execution_count": 14,
      "outputs": []
    },
    {
      "cell_type": "markdown",
      "metadata": {
        "id": "AdqLK9G12DbJ"
      },
      "source": [
        "查看一下每一個數字影像都變成 784 個 float 數字。"
      ]
    },
    {
      "cell_type": "code",
      "execution_count": 15,
      "metadata": {
        "id": "uBbTQ0gWn8vX",
        "colab": {
          "base_uri": "https://localhost:8080/"
        },
        "outputId": "0d17b167-b0e1-4c40-e6a5-382ac0ef04fe"
      },
      "outputs": [
        {
          "output_type": "stream",
          "name": "stdout",
          "text": [
            "x_train :  (50000, 32, 32, 3)\n",
            "Model: \"sequential\"\n",
            "_________________________________________________________________\n",
            " Layer (type)                Output Shape              Param #   \n",
            "=================================================================\n",
            " conv2d (Conv2D)             (None, 32, 32, 32)        896       \n",
            "                                                                 \n",
            " batch_normalization (Batch  (None, 32, 32, 32)        128       \n",
            " Normalization)                                                  \n",
            "                                                                 \n",
            " conv2d_1 (Conv2D)           (None, 32, 32, 32)        9248      \n",
            "                                                                 \n",
            " batch_normalization_1 (Bat  (None, 32, 32, 32)        128       \n",
            " chNormalization)                                                \n",
            "                                                                 \n",
            " max_pooling2d (MaxPooling2  (None, 16, 16, 32)        0         \n",
            " D)                                                              \n",
            "                                                                 \n",
            " dropout (Dropout)           (None, 16, 16, 32)        0         \n",
            "                                                                 \n",
            " conv2d_2 (Conv2D)           (None, 16, 16, 64)        18496     \n",
            "                                                                 \n",
            " batch_normalization_2 (Bat  (None, 16, 16, 64)        256       \n",
            " chNormalization)                                                \n",
            "                                                                 \n",
            " conv2d_3 (Conv2D)           (None, 16, 16, 64)        36928     \n",
            "                                                                 \n",
            " batch_normalization_3 (Bat  (None, 16, 16, 64)        256       \n",
            " chNormalization)                                                \n",
            "                                                                 \n",
            " max_pooling2d_1 (MaxPoolin  (None, 8, 8, 64)          0         \n",
            " g2D)                                                            \n",
            "                                                                 \n",
            " dropout_1 (Dropout)         (None, 8, 8, 64)          0         \n",
            "                                                                 \n",
            " conv2d_4 (Conv2D)           (None, 8, 8, 128)         73856     \n",
            "                                                                 \n",
            " batch_normalization_4 (Bat  (None, 8, 8, 128)         512       \n",
            " chNormalization)                                                \n",
            "                                                                 \n",
            " conv2d_5 (Conv2D)           (None, 8, 8, 128)         147584    \n",
            "                                                                 \n",
            " batch_normalization_5 (Bat  (None, 8, 8, 128)         512       \n",
            " chNormalization)                                                \n",
            "                                                                 \n",
            " max_pooling2d_2 (MaxPoolin  (None, 4, 4, 128)         0         \n",
            " g2D)                                                            \n",
            "                                                                 \n",
            " dropout_2 (Dropout)         (None, 4, 4, 128)         0         \n",
            "                                                                 \n",
            " flatten (Flatten)           (None, 2048)              0         \n",
            "                                                                 \n",
            " dense (Dense)               (None, 128)               262272    \n",
            "                                                                 \n",
            " dropout_3 (Dropout)         (None, 128)               0         \n",
            "                                                                 \n",
            " dense_1 (Dense)             (None, 10)                1290      \n",
            "                                                                 \n",
            "=================================================================\n",
            "Total params: 552362 (2.11 MB)\n",
            "Trainable params: 551466 (2.10 MB)\n",
            "Non-trainable params: 896 (3.50 KB)\n",
            "_________________________________________________________________\n",
            "None\n"
          ]
        },
        {
          "output_type": "execute_result",
          "data": {
            "text/plain": [
              "array([[6],\n",
              "       [9],\n",
              "       [9],\n",
              "       [4],\n",
              "       [1]], dtype=uint8)"
            ]
          },
          "metadata": {},
          "execution_count": 15
        }
      ],
      "source": [
        "print('x_train : ', X_Train.shape)\n",
        "#print('x_test : ', X_Test.shape)\n",
        "print(model.summary())\n",
        "y_train_label[:5]"
      ]
    },
    {
      "cell_type": "markdown",
      "metadata": {
        "id": "ivdFFYiD2WqY"
      },
      "source": [
        "將 image 的數字標準化。\n",
        "\n",
        "因為圖像的數字是介於 0 到 255，所以最簡單的方法就是除以 255。"
      ]
    },
    {
      "cell_type": "code",
      "execution_count": 16,
      "metadata": {
        "id": "NDMKuvtIn8vY"
      },
      "outputs": [],
      "source": [
        "# 將訓練資料和測試資料轉換為 float32 並歸一化\n",
        "########X_Train = X_train_image.astype('float32')\n",
        "########X_Test = X_test_image.astype('float32')\n",
        "########X_Train_normalize = X_Train / 255\n",
        "########X_Test_normalize = X_Test / 255\n",
        "\n",
        "# 將標籤轉換為 one-hot 編碼\n",
        "########y_TrainOneHot = to_categorical(y_train_label)\n",
        "########y_TestOneHot = to_categorical(y_test_label)\n",
        "\n",
        "#X_Train_normalize = X_Train / 255\n",
        "#X_Test_normalize = X_Test / 255"
      ]
    },
    {
      "cell_type": "markdown",
      "metadata": {
        "id": "CDWfCYgu29br"
      },
      "source": [
        "# labels(數字影像對應真實值)資料預處理\n",
        "---\n",
        "先來查看一下訓練資料 label 標籤欄位前五筆資料，可以看到這是 0 ~ 9 的單一數字。"
      ]
    },
    {
      "cell_type": "markdown",
      "metadata": {
        "id": "0HVpRwTMlWTo"
      },
      "source": [
        "使用我們開頭匯入的 to_categorical函式，傳入 label 標籤，將他們轉換成 one-hot encoding。"
      ]
    },
    {
      "cell_type": "code",
      "execution_count": 17,
      "metadata": {
        "id": "Am_djE9Cn8vY",
        "colab": {
          "base_uri": "https://localhost:8080/",
          "height": 217
        },
        "outputId": "6cb58ace-0763-410e-971b-7be8c8dd52e9"
      },
      "outputs": [
        {
          "output_type": "display_data",
          "data": {
            "text/plain": [
              "<Figure size 200x200 with 1 Axes>"
            ],
            "image/png": "[encoded data removed]"
          },
          "metadata": {}
        }
      ],
      "source": [
        "plot_image(X_train_image[201])\n",
        "#y_TrainOneHot = to_categorical(y_train_label)\n",
        "#y_TestOneHot = to_categorical(y_test_label)"
      ]
    },
    {
      "cell_type": "markdown",
      "metadata": {
        "id": "IdhtS_VDl6kg"
      },
      "source": [
        "查看轉換過後的結果。"
      ]
    },
    {
      "cell_type": "markdown",
      "metadata": {
        "id": "VZ24AXlCmC2g"
      },
      "source": [
        "# 建立 MLP 模型\n",
        "---\n",
        "接下來建立我們的多層感知器模型，輸入層共有 (28*28) 個神經元，隱藏層 32 個神經元，最後輸出層共有 10 個神經元。\n",
        "\n",
        "首先先匯入所需要的模組。"
      ]
    },
    {
      "cell_type": "code",
      "execution_count": 18,
      "metadata": {
        "id": "6t3RUk-wn8vZ"
      },
      "outputs": [],
      "source": [
        "#from tensorflow.keras import layers, metrics\n",
        "#from tensorflow.keras.layers import Dense,InputLayer,Flatten\n",
        "#from tensorflow.keras import models\n",
        "#import tensorflow as tf\n",
        "#tf.random.set_seed(seed)"
      ]
    },
    {
      "cell_type": "markdown",
      "metadata": {
        "id": "_KqO-SLQm7Dk"
      },
      "source": [
        "建立 Sequential 一個線性堆疊模型，後續只要使用 model.add() 將個神經網路層依序加入模型即可。"
      ]
    },
    {
      "cell_type": "code",
      "execution_count": 19,
      "metadata": {
        "id": "RJKfB6H8n8vZ"
      },
      "outputs": [],
      "source": [
        "#model = models.Sequential()"
      ]
    },
    {
      "cell_type": "markdown",
      "source": [
        "建立輸入層\n",
        "1.   設定輸入層神經元 維度為 (28,28,1)。\n",
        "2.   把(28,28,1)攤平，變成一維"
      ],
      "metadata": {
        "id": "3PvA6D4BrQmP"
      }
    },
    {
      "cell_type": "code",
      "source": [
        "#model.add(InputLayer(input_shape=(32,32,3))) #加分題輸入資料的shape為(32,32,3)\n",
        "#model.add(Flatten())"
      ],
      "metadata": {
        "id": "MlQx3w1krP2X"
      },
      "execution_count": 20,
      "outputs": []
    },
    {
      "cell_type": "markdown",
      "metadata": {
        "id": "uvAqC0q3nZdO"
      },
      "source": [
        "建立隱藏層。\n",
        "1.   定義隱藏層神經元 32 個。\n",
        "2.   設定激活函數為 sigmoid。\n",
        "\n",
        "可以在keras官方文件查看可以使用的Activation function\n",
        "https://keras.io/zh/activations/\n",
        "\n"
      ]
    },
    {
      "cell_type": "markdown",
      "metadata": {
        "id": "DU9GQ-0VoRaS"
      },
      "source": [
        "建立輸出層總共 10 個神經元，對應要分類的數字類別 0 ~ 9 。設定激活函數為 softmax ，這樣每一個神經元的輸出結果可視為預測每一個數字的機率。"
      ]
    },
    {
      "cell_type": "code",
      "execution_count": 21,
      "metadata": {
        "id": "4cgofZ9Yn8va"
      },
      "outputs": [],
      "source": [
        "#model.add(Dense(10, kernel_initializer = 'normal', activation = 'softmax'))"
      ]
    },
    {
      "cell_type": "markdown",
      "metadata": {
        "id": "I5tigyhWo3eg"
      },
      "source": [
        "來看看我們建好的模型的摘要。"
      ]
    },
    {
      "cell_type": "code",
      "execution_count": 22,
      "metadata": {
        "id": "yw-ifJ58n8va"
      },
      "outputs": [],
      "source": [
        "#print(model.summary())"
      ]
    },
    {
      "cell_type": "markdown",
      "metadata": {
        "id": "mR__ZeJ8pS0Y"
      },
      "source": [
        "# 進行訓練\n",
        "---\n",
        "首先使用 compile ，對訓練模型進行設定。相關參數有：\n",
        "1.   loss : 設定損失函數，這邊使用 CategoricalCrossentropy。另外也還有很多不同的函數，可以到 keras 官網查詢，不同的模型和資料都有他們最適合的函數。\n",
        "2.   optimizer : 設定優化方法，這邊使用 sgd 方法。同樣 keras 也提供很多種優化方法。https://keras.io/zh/optimizers/\n",
        "1.   metrics : 設定評估模型的方式是 accuracy 準確率。"
      ]
    },
    {
      "cell_type": "code",
      "execution_count": 23,
      "metadata": {
        "id": "CNMv_62tn8va"
      },
      "outputs": [],
      "source": [
        "#loss_function = 'CategoricalCrossentropy'\n",
        "#optimize_function = 'Adam' # Adadelta , Adagrad ,Adam ,Adamax ,FTRL ,Nadam ,RMSprop ,sgd\n",
        "#model.compile(loss = loss_function, optimizer = optimize_function, metrics = ['accuracy'])"
      ]
    },
    {
      "cell_type": "markdown",
      "metadata": {
        "id": "jeXXrNn_rCxB"
      },
      "source": [
        "開始訓練，過程都會儲存在 train_history 變數，其中的相關參數：\n",
        "1.   設定 validation_split = 0.2 ，將訓練資料 80% 作為訓練，20% 作為驗證資料。\n",
        "1.   設定 epochs 執行 10 次訓練週期。每一批次 batch_size 有 200 筆資料。\n",
        "2.   verbose = 2，顯示訓練過程。"
      ]
    },
    {
      "cell_type": "code",
      "source": [
        "#print('x_train_image : ', X_train_image.shape)\n",
        "#print('y_train_label : ', y_train_label.shape)\n",
        "#print('x_test_image : ', X_test_image.shape)\n",
        "#print('y_test_label : ', y_test_label.shape)"
      ],
      "metadata": {
        "id": "DNWgSDYuhvUT"
      },
      "execution_count": 24,
      "outputs": []
    },
    {
      "cell_type": "code",
      "source": [
        "#y_TrainOneHot = to_categorical(y_train_label)\n",
        "#y_TestOneHot = to_categorical(y_test_label)"
      ],
      "metadata": {
        "id": "qtD0Xn_8itov"
      },
      "execution_count": 25,
      "outputs": []
    },
    {
      "cell_type": "code",
      "source": [
        "#print('X_Train_normalize shape:', X_Train_normalize.shape)\n",
        "#print('y_TrainOneHot shape:', y_TrainOneHot.shape)"
      ],
      "metadata": {
        "id": "xzbeve1KiY4r"
      },
      "execution_count": 26,
      "outputs": []
    },
    {
      "cell_type": "code",
      "source": [
        "#print('x_train : ', X_Train.shape)\n",
        "#print(model.summary())\n",
        "#y_train_label[:5]"
      ],
      "metadata": {
        "id": "OAWc_g1CmCuS"
      },
      "execution_count": 27,
      "outputs": []
    },
    {
      "cell_type": "code",
      "source": [
        "#plot_image(X_train_image[201])"
      ],
      "metadata": {
        "id": "PsNePhZfl9Qq"
      },
      "execution_count": 28,
      "outputs": []
    },
    {
      "cell_type": "code",
      "execution_count": 29,
      "metadata": {
        "id": "A9mb8zN3n8va",
        "colab": {
          "base_uri": "https://localhost:8080/"
        },
        "outputId": "126ee934-f22c-4ce0-bc61-d0a564497cb3"
      },
      "outputs": [
        {
          "output_type": "stream",
          "name": "stdout",
          "text": [
            "Epoch 1/65\n",
            "625/625 [==============================] - 17s 14ms/step - loss: 1.9348 - accuracy: 0.2858 - val_loss: 1.7363 - val_accuracy: 0.3828\n",
            "Epoch 2/65\n",
            "625/625 [==============================] - 8s 12ms/step - loss: 1.5507 - accuracy: 0.4284 - val_loss: 1.5230 - val_accuracy: 0.4597\n",
            "Epoch 3/65\n",
            "625/625 [==============================] - 7s 12ms/step - loss: 1.3406 - accuracy: 0.5153 - val_loss: 1.2474 - val_accuracy: 0.5356\n",
            "Epoch 4/65\n",
            "625/625 [==============================] - 8s 13ms/step - loss: 1.2055 - accuracy: 0.5755 - val_loss: 0.9796 - val_accuracy: 0.6603\n",
            "Epoch 5/65\n",
            "625/625 [==============================] - 8s 13ms/step - loss: 1.0927 - accuracy: 0.6200 - val_loss: 0.9954 - val_accuracy: 0.6422\n",
            "Epoch 6/65\n",
            "625/625 [==============================] - 7s 12ms/step - loss: 1.0066 - accuracy: 0.6533 - val_loss: 0.8861 - val_accuracy: 0.6879\n",
            "Epoch 7/65\n",
            "625/625 [==============================] - 8s 13ms/step - loss: 0.9560 - accuracy: 0.6724 - val_loss: 0.8014 - val_accuracy: 0.7218\n",
            "Epoch 8/65\n",
            "625/625 [==============================] - 8s 13ms/step - loss: 0.8947 - accuracy: 0.6996 - val_loss: 0.7325 - val_accuracy: 0.7409\n",
            "Epoch 9/65\n",
            "625/625 [==============================] - 8s 13ms/step - loss: 0.8471 - accuracy: 0.7110 - val_loss: 0.7032 - val_accuracy: 0.7518\n",
            "Epoch 10/65\n",
            "625/625 [==============================] - 8s 13ms/step - loss: 0.8162 - accuracy: 0.7217 - val_loss: 0.8398 - val_accuracy: 0.7150\n",
            "Epoch 11/65\n",
            "625/625 [==============================] - 8s 12ms/step - loss: 0.7783 - accuracy: 0.7357 - val_loss: 0.6493 - val_accuracy: 0.7766\n",
            "Epoch 12/65\n",
            "625/625 [==============================] - 8s 12ms/step - loss: 0.7564 - accuracy: 0.7466 - val_loss: 0.6218 - val_accuracy: 0.7826\n",
            "Epoch 13/65\n",
            "625/625 [==============================] - 8s 12ms/step - loss: 0.7231 - accuracy: 0.7555 - val_loss: 0.7250 - val_accuracy: 0.7611\n",
            "Epoch 14/65\n",
            "625/625 [==============================] - 8s 13ms/step - loss: 0.6974 - accuracy: 0.7654 - val_loss: 0.7127 - val_accuracy: 0.7641\n",
            "Epoch 15/65\n",
            "625/625 [==============================] - 8s 13ms/step - loss: 0.6727 - accuracy: 0.7737 - val_loss: 0.6125 - val_accuracy: 0.7928\n",
            "Epoch 16/65\n",
            "625/625 [==============================] - 7s 12ms/step - loss: 0.6563 - accuracy: 0.7787 - val_loss: 0.6344 - val_accuracy: 0.7891\n",
            "Epoch 17/65\n",
            "625/625 [==============================] - 8s 13ms/step - loss: 0.6365 - accuracy: 0.7857 - val_loss: 0.6033 - val_accuracy: 0.7969\n",
            "Epoch 18/65\n",
            "625/625 [==============================] - 7s 12ms/step - loss: 0.6216 - accuracy: 0.7895 - val_loss: 0.6362 - val_accuracy: 0.7843\n",
            "Epoch 19/65\n",
            "625/625 [==============================] - 8s 13ms/step - loss: 0.6053 - accuracy: 0.7975 - val_loss: 0.5683 - val_accuracy: 0.8085\n",
            "Epoch 20/65\n",
            "625/625 [==============================] - 8s 12ms/step - loss: 0.5874 - accuracy: 0.8001 - val_loss: 0.5613 - val_accuracy: 0.8089\n",
            "Epoch 21/65\n",
            "625/625 [==============================] - 8s 12ms/step - loss: 0.5690 - accuracy: 0.8080 - val_loss: 0.5517 - val_accuracy: 0.8170\n",
            "Epoch 22/65\n",
            "625/625 [==============================] - 8s 13ms/step - loss: 0.5676 - accuracy: 0.8077 - val_loss: 0.4983 - val_accuracy: 0.8361\n",
            "Epoch 23/65\n",
            "625/625 [==============================] - 8s 12ms/step - loss: 0.5475 - accuracy: 0.8138 - val_loss: 0.5264 - val_accuracy: 0.8243\n",
            "Epoch 24/65\n",
            "625/625 [==============================] - 8s 13ms/step - loss: 0.5435 - accuracy: 0.8160 - val_loss: 0.4997 - val_accuracy: 0.8345\n",
            "Epoch 25/65\n",
            "625/625 [==============================] - 9s 14ms/step - loss: 0.5266 - accuracy: 0.8229 - val_loss: 0.5227 - val_accuracy: 0.8242\n",
            "Epoch 26/65\n",
            "625/625 [==============================] - 8s 12ms/step - loss: 0.5157 - accuracy: 0.8242 - val_loss: 0.5142 - val_accuracy: 0.8323\n",
            "Epoch 27/65\n",
            "625/625 [==============================] - 8s 13ms/step - loss: 0.5069 - accuracy: 0.8275 - val_loss: 0.4892 - val_accuracy: 0.8388\n",
            "Epoch 28/65\n",
            "625/625 [==============================] - 8s 13ms/step - loss: 0.5008 - accuracy: 0.8292 - val_loss: 0.4885 - val_accuracy: 0.8378\n",
            "Epoch 29/65\n",
            "625/625 [==============================] - 8s 12ms/step - loss: 0.4881 - accuracy: 0.8334 - val_loss: 0.4919 - val_accuracy: 0.8346\n",
            "Epoch 30/65\n",
            "625/625 [==============================] - 8s 13ms/step - loss: 0.4845 - accuracy: 0.8356 - val_loss: 0.4927 - val_accuracy: 0.8351\n",
            "Epoch 31/65\n",
            "625/625 [==============================] - 7s 12ms/step - loss: 0.4808 - accuracy: 0.8359 - val_loss: 0.5044 - val_accuracy: 0.8330\n",
            "Epoch 32/65\n",
            "625/625 [==============================] - 8s 12ms/step - loss: 0.4662 - accuracy: 0.8395 - val_loss: 0.4797 - val_accuracy: 0.8431\n",
            "Epoch 33/65\n",
            "625/625 [==============================] - 8s 13ms/step - loss: 0.4678 - accuracy: 0.8408 - val_loss: 0.4650 - val_accuracy: 0.8455\n",
            "Epoch 34/65\n",
            "625/625 [==============================] - 8s 12ms/step - loss: 0.4576 - accuracy: 0.8439 - val_loss: 0.5285 - val_accuracy: 0.8249\n",
            "Epoch 35/65\n",
            "625/625 [==============================] - 8s 13ms/step - loss: 0.4482 - accuracy: 0.8462 - val_loss: 0.4618 - val_accuracy: 0.8474\n",
            "Epoch 36/65\n",
            "625/625 [==============================] - 8s 12ms/step - loss: 0.4401 - accuracy: 0.8505 - val_loss: 0.4614 - val_accuracy: 0.8499\n",
            "Epoch 37/65\n",
            "625/625 [==============================] - 8s 13ms/step - loss: 0.4365 - accuracy: 0.8507 - val_loss: 0.4779 - val_accuracy: 0.8480\n",
            "Epoch 38/65\n",
            "625/625 [==============================] - 8s 13ms/step - loss: 0.4349 - accuracy: 0.8535 - val_loss: 0.5154 - val_accuracy: 0.8287\n",
            "Epoch 39/65\n",
            "625/625 [==============================] - 8s 12ms/step - loss: 0.4255 - accuracy: 0.8550 - val_loss: 0.4661 - val_accuracy: 0.8455\n",
            "Epoch 40/65\n",
            "625/625 [==============================] - 8s 13ms/step - loss: 0.4226 - accuracy: 0.8552 - val_loss: 0.4809 - val_accuracy: 0.8423\n",
            "Epoch 41/65\n",
            "625/625 [==============================] - 8s 13ms/step - loss: 0.4120 - accuracy: 0.8571 - val_loss: 0.4649 - val_accuracy: 0.8457\n",
            "Epoch 42/65\n",
            "625/625 [==============================] - 8s 12ms/step - loss: 0.4106 - accuracy: 0.8601 - val_loss: 0.4605 - val_accuracy: 0.8478\n",
            "Epoch 43/65\n",
            "625/625 [==============================] - 8s 13ms/step - loss: 0.4065 - accuracy: 0.8623 - val_loss: 0.5389 - val_accuracy: 0.8243\n",
            "Epoch 44/65\n",
            "625/625 [==============================] - 8s 12ms/step - loss: 0.4034 - accuracy: 0.8615 - val_loss: 0.4522 - val_accuracy: 0.8539\n",
            "Epoch 45/65\n",
            "625/625 [==============================] - 8s 13ms/step - loss: 0.3953 - accuracy: 0.8642 - val_loss: 0.4738 - val_accuracy: 0.8477\n",
            "Epoch 46/65\n",
            "625/625 [==============================] - 8s 13ms/step - loss: 0.3927 - accuracy: 0.8643 - val_loss: 0.5060 - val_accuracy: 0.8386\n",
            "Epoch 47/65\n",
            "625/625 [==============================] - 7s 12ms/step - loss: 0.3894 - accuracy: 0.8666 - val_loss: 0.4717 - val_accuracy: 0.8496\n",
            "Epoch 48/65\n",
            "625/625 [==============================] - 8s 13ms/step - loss: 0.3861 - accuracy: 0.8667 - val_loss: 0.4612 - val_accuracy: 0.8457\n",
            "Epoch 49/65\n",
            "625/625 [==============================] - 8s 12ms/step - loss: 0.3811 - accuracy: 0.8690 - val_loss: 0.4618 - val_accuracy: 0.8526\n",
            "Epoch 50/65\n",
            "625/625 [==============================] - 8s 12ms/step - loss: 0.3734 - accuracy: 0.8731 - val_loss: 0.4635 - val_accuracy: 0.8523\n",
            "Epoch 51/65\n",
            "625/625 [==============================] - 8s 13ms/step - loss: 0.3801 - accuracy: 0.8694 - val_loss: 0.4639 - val_accuracy: 0.8520\n",
            "Epoch 52/65\n",
            "625/625 [==============================] - 8s 12ms/step - loss: 0.3649 - accuracy: 0.8744 - val_loss: 0.4468 - val_accuracy: 0.8529\n",
            "Epoch 53/65\n",
            "625/625 [==============================] - 8s 13ms/step - loss: 0.3677 - accuracy: 0.8732 - val_loss: 0.4778 - val_accuracy: 0.8453\n",
            "Epoch 54/65\n",
            "625/625 [==============================] - 8s 13ms/step - loss: 0.3671 - accuracy: 0.8719 - val_loss: 0.4747 - val_accuracy: 0.8483\n",
            "Epoch 55/65\n",
            "625/625 [==============================] - 8s 12ms/step - loss: 0.3617 - accuracy: 0.8761 - val_loss: 0.4303 - val_accuracy: 0.8597\n",
            "Epoch 56/65\n",
            "625/625 [==============================] - 8s 13ms/step - loss: 0.3587 - accuracy: 0.8758 - val_loss: 0.5151 - val_accuracy: 0.8394\n",
            "Epoch 57/65\n",
            "625/625 [==============================] - 8s 12ms/step - loss: 0.3513 - accuracy: 0.8793 - val_loss: 0.4995 - val_accuracy: 0.8412\n",
            "Epoch 58/65\n",
            "625/625 [==============================] - 8s 12ms/step - loss: 0.3487 - accuracy: 0.8802 - val_loss: 0.4478 - val_accuracy: 0.8593\n",
            "Epoch 59/65\n",
            "625/625 [==============================] - 8s 14ms/step - loss: 0.3510 - accuracy: 0.8788 - val_loss: 0.4566 - val_accuracy: 0.8543\n",
            "Epoch 60/65\n",
            "625/625 [==============================] - 8s 12ms/step - loss: 0.3538 - accuracy: 0.8777 - val_loss: 0.4322 - val_accuracy: 0.8611\n",
            "Epoch 61/65\n",
            "625/625 [==============================] - 8s 13ms/step - loss: 0.3439 - accuracy: 0.8828 - val_loss: 0.4741 - val_accuracy: 0.8514\n",
            "Epoch 62/65\n",
            "625/625 [==============================] - 8s 12ms/step - loss: 0.3433 - accuracy: 0.8824 - val_loss: 0.4290 - val_accuracy: 0.8600\n",
            "Epoch 63/65\n",
            "625/625 [==============================] - 8s 13ms/step - loss: 0.3412 - accuracy: 0.8827 - val_loss: 0.4509 - val_accuracy: 0.8603\n",
            "Epoch 64/65\n",
            "625/625 [==============================] - 8s 13ms/step - loss: 0.3426 - accuracy: 0.8834 - val_loss: 0.4297 - val_accuracy: 0.8616\n",
            "Epoch 65/65\n",
            "625/625 [==============================] - 8s 12ms/step - loss: 0.3333 - accuracy: 0.8838 - val_loss: 0.4249 - val_accuracy: 0.8625\n"
          ]
        }
      ],
      "source": [
        "from tensorflow.keras.callbacks import EarlyStopping\n",
        "\n",
        "loss_function = 'CategoricalCrossentropy'#CategoricalCrossentropy\n",
        "optimize_function = 'Adam'\n",
        "\n",
        "\n",
        "early_stop = EarlyStopping(monitor='val_loss', patience=2)\n",
        "model.compile(loss = loss_function, optimizer = optimize_function,metrics = ['accuracy'])\n",
        "\n",
        "train_history = model.fit(x = X_Train_normalize, y = y_TrainOneHot,\n",
        "                            validation_split = 0.2, epochs = 65, batch_size = 64,\n",
        "                            verbose = 1)#, shuffle=True)\n",
        "#optimizer = tf.keras.optimizers.Adam(learning_rate=0.001)"
      ]
    },
    {
      "cell_type": "markdown",
      "metadata": {
        "id": "y2UhJPyc39PF"
      },
      "source": [
        "建立函式顯示訓練過程，會將每一個訓練週期的 accuracy 和 loss 以圖表顯示出來。"
      ]
    },
    {
      "cell_type": "code",
      "execution_count": 30,
      "metadata": {
        "id": "oQgpTAEfn8vb"
      },
      "outputs": [],
      "source": [
        "def show_train_history(train_history, train, validation):\n",
        "    plt.plot(train_history.history[train])\n",
        "    plt.plot(train_history.history[validation])\n",
        "    plt.title('Train History')\n",
        "    plt.ylabel(train)\n",
        "    plt.xlabel('Epoch')\n",
        "    plt.legend(['train', 'validation'], loc = 'upper left')\n",
        "    plt.show()"
      ]
    },
    {
      "cell_type": "code",
      "execution_count": 31,
      "metadata": {
        "id": "Gd1cWRrKn8vb",
        "colab": {
          "base_uri": "https://localhost:8080/",
          "height": 472
        },
        "outputId": "1b04ab49-ded9-42ea-94a2-7d58dc414406"
      },
      "outputs": [
        {
          "output_type": "display_data",
          "data": {
            "text/plain": [
              "<Figure size 640x480 with 1 Axes>"
            ],
            "image/png": "[encoded data removed]"
          },
          "metadata": {}
        }
      ],
      "source": [
        "show_train_history(train_history, 'accuracy', 'val_accuracy')"
      ]
    },
    {
      "cell_type": "code",
      "execution_count": 32,
      "metadata": {
        "id": "BW7YX87on8vb",
        "colab": {
          "base_uri": "https://localhost:8080/",
          "height": 472
        },
        "outputId": "091718f2-ae4a-47e3-f692-209a5e5a7c07"
      },
      "outputs": [
        {
          "output_type": "display_data",
          "data": {
            "text/plain": [
              "<Figure size 640x480 with 1 Axes>"
            ],
            "image/png": "[encoded data removed]"
          },
          "metadata": {}
        }
      ],
      "source": [
        "show_train_history(train_history, 'loss', 'val_loss')"
      ]
    },
    {
      "cell_type": "markdown",
      "metadata": {
        "id": "fhHrcEWo4iJD"
      },
      "source": [
        "# 以測試資料評估模型準確率\n",
        "---\n"
      ]
    },
    {
      "cell_type": "code",
      "execution_count": 33,
      "metadata": {
        "id": "FpMOSWR2n8vc",
        "colab": {
          "base_uri": "https://localhost:8080/"
        },
        "outputId": "210cb15a-4855-4513-9773-362cf26a7f4b"
      },
      "outputs": [
        {
          "output_type": "stream",
          "name": "stdout",
          "text": [
            "313/313 [==============================] - 1s 3ms/step - loss: 0.4490 - accuracy: 0.8587\n",
            "\n",
            "accuracy =  0.8586999773979187\n"
          ]
        }
      ],
      "source": [
        "scores = model.evaluate(X_Test_normalize, y_TestOneHot)\n",
        "print()\n",
        "print('accuracy = ', scores[1])"
      ]
    },
    {
      "cell_type": "markdown",
      "metadata": {
        "id": "80wdyNJY40PA"
      },
      "source": [
        "執行預測，將結果存到 prediction 中。"
      ]
    },
    {
      "cell_type": "code",
      "execution_count": 34,
      "metadata": {
        "id": "PjVUnCEnn8vc",
        "colab": {
          "base_uri": "https://localhost:8080/"
        },
        "outputId": "553cefb5-e206-452b-90ab-2f3f73e09ae0"
      },
      "outputs": [
        {
          "output_type": "stream",
          "name": "stdout",
          "text": [
            "313/313 [==============================] - 2s 3ms/step\n"
          ]
        }
      ],
      "source": [
        "prediction = np.argmax(model.predict(X_Test), axis = -1)"
      ]
    },
    {
      "cell_type": "code",
      "execution_count": 35,
      "metadata": {
        "id": "h9SWS2kqn8vc",
        "colab": {
          "base_uri": "https://localhost:8080/"
        },
        "outputId": "bce8db2d-00fc-4728-840f-402f54e07777"
      },
      "outputs": [
        {
          "output_type": "execute_result",
          "data": {
            "text/plain": [
              "array([5, 8, 9, ..., 7, 1, 7])"
            ]
          },
          "metadata": {},
          "execution_count": 35
        }
      ],
      "source": [
        "prediction"
      ]
    },
    {
      "cell_type": "markdown",
      "metadata": {
        "id": "lpO7D8kU5Cc_"
      },
      "source": [
        "顯示 10 筆預測結果。"
      ]
    },
    {
      "cell_type": "code",
      "execution_count": 36,
      "metadata": {
        "id": "3P_gdFyBn8vc",
        "scrolled": false,
        "colab": {
          "base_uri": "https://localhost:8080/",
          "height": 400
        },
        "outputId": "e42c2fa3-e46f-449d-90b9-c6dbd979ce84"
      },
      "outputs": [
        {
          "output_type": "display_data",
          "data": {
            "text/plain": [
              "<Figure size 1200x1400 with 10 Axes>"
            ],
            "image/png": "[encoded data removed]"
          },
          "metadata": {}
        }
      ],
      "source": [
        "plot_images_labels_prediction(X_test_image, y_test_label, prediction, idx = 200)"
      ]
    },
    {
      "cell_type": "code",
      "source": [
        "#y_test_label = y_test_label.reshape(10000)"
      ],
      "metadata": {
        "id": "bwAxlDHhxG-D"
      },
      "execution_count": 37,
      "outputs": []
    },
    {
      "cell_type": "markdown",
      "metadata": {
        "id": "wPnqNhGnvgqS"
      },
      "source": [
        "混淆矩陣"
      ]
    },
    {
      "cell_type": "code",
      "execution_count": 38,
      "metadata": {
        "id": "MnGfKgExvgqS"
      },
      "outputs": [],
      "source": [
        "#使用 pandas 中的 crosstab 能夠很方便的建立混淆矩陣。\n",
        "#pd.crosstab(y_test_label, prediction, rownames = ['label'], colnames = ['predict'])"
      ]
    },
    {
      "cell_type": "code",
      "source": [
        "#from google.colab import files\n",
        "\n",
        "#uploaded = files.upload()"
      ],
      "metadata": {
        "id": "jzE1O4YZv9Kd"
      },
      "execution_count": 39,
      "outputs": []
    },
    {
      "cell_type": "code",
      "source": [
        "# 確保上傳的圖片已經被儲存到Colab的環境中\n",
        "#uploaded_image_path = list(uploaded.keys())[0]  # 取得上傳圖片的路徑\n",
        "\n",
        "#print(f\"上傳的圖片路徑: {uploaded_image_path}\")"
      ],
      "metadata": {
        "id": "dWTbDFHKwAGI"
      },
      "execution_count": 40,
      "outputs": []
    },
    {
      "cell_type": "code",
      "source": [
        "#import numpy as np\n",
        "#from google.colab import files #匯入套件\n",
        "#import pandas as pd\n",
        "#from PIL import Image, ImageOps\n",
        "#import os\n",
        "#import matplotlib.pyplot as plt\n",
        "#from google.colab import drive\n",
        "\n",
        "#img_data = Image.open(uploaded_image_path)\n",
        "#newImg = ImageOps.invert(img_data)\n",
        "#img_arr = np.array(newImg)\n",
        "\n",
        "#list1 = []\n",
        "#for i in range(len(img_arr)):\n",
        "  #joe = []\n",
        "  #for j in range(len(img_arr[i])):\n",
        "   # sum = img_arr[i][j][0]+img_arr[i][j][1]+img_arr[i][j][2]\n",
        "    #joe.append(sum)\n",
        "  #list1.append(joe)\n",
        "#ha = [list1]\n",
        "#img_list = np.array(ha)\n",
        "\n",
        "#print(img_list)\n"
      ],
      "metadata": {
        "id": "_-KpNrvmvq8G"
      },
      "execution_count": 41,
      "outputs": []
    },
    {
      "cell_type": "code",
      "source": [
        "#from skimage.transform import resize\n",
        "\n",
        "# 將圖片調整為模型期望的形狀\n",
        "#resized_img = resize(img_arr, (28, 28, 1), mode='constant')\n",
        "\n",
        "# 將圖片轉換為numpy array\n",
        "#img_list = np.array([resized_img])\n",
        "\n",
        "# 顯示調整大小後的圖片\n",
        "#plt.imshow(resized_img[:, :, 0], cmap='gray')\n",
        "#plt.show()"
      ],
      "metadata": {
        "id": "8QBsEhDWynBd"
      },
      "execution_count": 42,
      "outputs": []
    },
    {
      "cell_type": "code",
      "source": [
        "#plot_image(img_list[0])"
      ],
      "metadata": {
        "id": "OZNpxWq0qQu7"
      },
      "execution_count": 43,
      "outputs": []
    },
    {
      "cell_type": "code",
      "source": [
        "#prediction_2 = np.argmax(model.predict(img_list), axis = -1)\n",
        "#prediction_2"
      ],
      "metadata": {
        "id": "C9XZVnGQqSs6"
      },
      "execution_count": 44,
      "outputs": []
    },
    {
      "cell_type": "code",
      "source": [
        "#img_Train = img_list.astype('float32')\n",
        "#img_Train_normalize = img_Train / 255\n",
        "#plot_images_labels_prediction(img_list,[2], prediction_2,idx=0,num=1)"
      ],
      "metadata": {
        "id": "De1snvldqT9y"
      },
      "execution_count": 45,
      "outputs": []
    }
  ],
  "metadata": {
    "accelerator": "GPU",
    "colab": {
      "provenance": [],
      "gpuType": "T4"
    },
    "kernelspec": {
      "display_name": "Python 3",
      "name": "python3"
    },
    "language_info": {
      "codemirror_mode": {
        "name": "ipython",
        "version": 3
      },
      "file_extension": ".py",
      "mimetype": "text/x-python",
      "name": "python",
      "nbconvert_exporter": "python",
      "pygments_lexer": "ipython3",
      "version": "3.7.9"
    },
    "vscode": {
      "interpreter": {
        "hash": "d194fa7cde35d0544ffd86d7eb28ea43b62c695d72f93f04bc49d19e1b400069"
      }
    }
  },
  "nbformat": 4,
  "nbformat_minor": 0
}